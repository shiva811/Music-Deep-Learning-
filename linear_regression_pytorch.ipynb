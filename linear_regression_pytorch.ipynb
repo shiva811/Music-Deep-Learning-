{
  "nbformat": 4,
  "nbformat_minor": 0,
  "metadata": {
    "colab": {
      "name": "linear_regression_pytorch",
      "provenance": [],
      "authorship_tag": "ABX9TyNsBDfh8gfSdgZ9WUKNFZUv",
      "include_colab_link": true
    },
    "kernelspec": {
      "name": "python3",
      "display_name": "Python 3"
    }
  },
  "cells": [
    {
      "cell_type": "markdown",
      "metadata": {
        "id": "view-in-github",
        "colab_type": "text"
      },
      "source": [
        "<a href=\"https://colab.research.google.com/github/shiva811/Music-Deep-Learning-/blob/master/linear_regression_pytorch.ipynb\" target=\"_parent\"><img src=\"https://colab.research.google.com/assets/colab-badge.svg\" alt=\"Open In Colab\"/></a>"
      ]
    },
    {
      "cell_type": "code",
      "metadata": {
        "id": "ZuCNKLIAjxb4"
      },
      "source": [
        "import numpy as np\r\n",
        "import torch"
      ],
      "execution_count": 1,
      "outputs": []
    },
    {
      "cell_type": "code",
      "metadata": {
        "id": "qstHmgvKkwqB"
      },
      "source": [
        "inputs = np.array([[73, 67, 43], \r\n",
        "                   [91, 88, 64], \r\n",
        "                   [87, 134, 58], \r\n",
        "                   [102, 43, 37], \r\n",
        "                   [69, 96, 70]], dtype='float32')"
      ],
      "execution_count": 10,
      "outputs": []
    },
    {
      "cell_type": "code",
      "metadata": {
        "colab": {
          "base_uri": "https://localhost:8080/"
        },
        "id": "ovMkmxNUk0J4",
        "outputId": "e4c92bb5-5887-49bd-fe34-89af06a87a6e"
      },
      "source": [
        "print(\"input_shape\", inputs.shape)"
      ],
      "execution_count": 11,
      "outputs": [
        {
          "output_type": "stream",
          "text": [
            "input_shape (5, 3)\n"
          ],
          "name": "stdout"
        }
      ]
    },
    {
      "cell_type": "code",
      "metadata": {
        "id": "SVdQQPNlk591"
      },
      "source": [
        "# Targets (apples, oranges)\r\n",
        "targets = np.array([[56, 70], \r\n",
        "                    [81, 101], \r\n",
        "                    [119, 133], \r\n",
        "                    [22, 37], \r\n",
        "                    [103, 119]], dtype='float32')"
      ],
      "execution_count": 12,
      "outputs": []
    },
    {
      "cell_type": "code",
      "metadata": {
        "colab": {
          "base_uri": "https://localhost:8080/"
        },
        "id": "JFIR7Edq2nS6",
        "outputId": "cf57079b-8bf5-4e3c-c568-b79aeb871a3f"
      },
      "source": [
        "# Convert inputs and targets to tensors\r\n",
        "inputs = torch.from_numpy(inputs)\r\n",
        "targets = torch.from_numpy(targets)\r\n",
        "print(inputs)\r\n",
        "print(targets)"
      ],
      "execution_count": 13,
      "outputs": [
        {
          "output_type": "stream",
          "text": [
            "tensor([[ 73.,  67.,  43.],\n",
            "        [ 91.,  88.,  64.],\n",
            "        [ 87., 134.,  58.],\n",
            "        [102.,  43.,  37.],\n",
            "        [ 69.,  96.,  70.]])\n",
            "tensor([[ 56.,  70.],\n",
            "        [ 81., 101.],\n",
            "        [119., 133.],\n",
            "        [ 22.,  37.],\n",
            "        [103., 119.]])\n"
          ],
          "name": "stdout"
        }
      ]
    },
    {
      "cell_type": "code",
      "metadata": {
        "colab": {
          "base_uri": "https://localhost:8080/"
        },
        "id": "W93FX3QI2qQ_",
        "outputId": "d5c0b576-e0c5-489f-fa51-e6781d480c6f"
      },
      "source": [
        "# Weights and biases\r\n",
        "w = torch.randn(2, 3, requires_grad=True)\r\n",
        "b = torch.randn(2, requires_grad=True)\r\n",
        "print(w)\r\n",
        "print(b)"
      ],
      "execution_count": 14,
      "outputs": [
        {
          "output_type": "stream",
          "text": [
            "tensor([[-1.4307, -0.0283,  0.0461],\n",
            "        [ 1.1953,  1.5512,  0.3695]], requires_grad=True)\n",
            "tensor([-1.7402, -1.0374], requires_grad=True)\n"
          ],
          "name": "stdout"
        }
      ]
    },
    {
      "cell_type": "code",
      "metadata": {
        "id": "bbVhGYZk2z7e"
      },
      "source": [
        "def model(x):\r\n",
        "    return x @ w.t() + b"
      ],
      "execution_count": 15,
      "outputs": []
    },
    {
      "cell_type": "code",
      "metadata": {
        "colab": {
          "base_uri": "https://localhost:8080/"
        },
        "id": "mxNjiN7t3Dxv",
        "outputId": "29b9f744-4060-49cd-e1b9-2d14b0481d56"
      },
      "source": [
        "preds = model(inputs)\r\n",
        "print(preds)"
      ],
      "execution_count": 17,
      "outputs": [
        {
          "output_type": "stream",
          "text": [
            "tensor([[-106.0911,  206.0339],\n",
            "        [-131.4684,  267.8827],\n",
            "        [-127.3224,  332.2377],\n",
            "        [-147.1800,  201.2521],\n",
            "        [ -99.9423,  256.2130]], grad_fn=<AddBackward0>)\n"
          ],
          "name": "stdout"
        }
      ]
    },
    {
      "cell_type": "code",
      "metadata": {
        "colab": {
          "base_uri": "https://localhost:8080/"
        },
        "id": "p7FAbp7qREt0",
        "outputId": "da72c30e-4c81-477e-f42c-ac3442a5f178"
      },
      "source": [
        "print(targets)"
      ],
      "execution_count": 18,
      "outputs": [
        {
          "output_type": "stream",
          "text": [
            "tensor([[ 56.,  70.],\n",
            "        [ 81., 101.],\n",
            "        [119., 133.],\n",
            "        [ 22.,  37.],\n",
            "        [103., 119.]])\n"
          ],
          "name": "stdout"
        }
      ]
    },
    {
      "cell_type": "code",
      "metadata": {
        "id": "o7eihsMCRI-F"
      },
      "source": [
        "# MSE loss\r\n",
        "def mse(t1, t2):\r\n",
        "    diff = t1 - t2\r\n",
        "    return torch.sum(diff * diff) / diff.numel()\r\n",
        "    "
      ],
      "execution_count": 19,
      "outputs": []
    },
    {
      "cell_type": "code",
      "metadata": {
        "colab": {
          "base_uri": "https://localhost:8080/"
        },
        "id": "GRy0C179cPgB",
        "outputId": "34416fce-787f-44aa-b714-e5cfcc00cf7e"
      },
      "source": [
        "# Compute loss\r\n",
        "loss = mse(preds, targets)\r\n",
        "print(loss)"
      ],
      "execution_count": 20,
      "outputs": [
        {
          "output_type": "stream",
          "text": [
            "tensor(33375.5391, grad_fn=<DivBackward0>)\n"
          ],
          "name": "stdout"
        }
      ]
    },
    {
      "cell_type": "code",
      "metadata": {
        "colab": {
          "base_uri": "https://localhost:8080/"
        },
        "id": "FefGSGegkz_Q",
        "outputId": "2e11d1d9-c92d-48b5-bee0-9fb6c7b92cbb"
      },
      "source": [
        "torch.autograd.set_detect_anomaly(True)"
      ],
      "execution_count": 21,
      "outputs": [
        {
          "output_type": "execute_result",
          "data": {
            "text/plain": [
              "<torch.autograd.anomaly_mode.set_detect_anomaly at 0x7fce2ea7bcc0>"
            ]
          },
          "metadata": {
            "tags": []
          },
          "execution_count": 21
        }
      ]
    },
    {
      "cell_type": "code",
      "metadata": {
        "colab": {
          "base_uri": "https://localhost:8080/"
        },
        "id": "JWeUnTtZcUr-",
        "outputId": "8fae7981-c5af-46b7-d21b-519d712a89b9"
      },
      "source": [
        "loss.backward()\r\n",
        "print(w)\r\n",
        "print(w.grad)"
      ],
      "execution_count": 22,
      "outputs": [
        {
          "output_type": "stream",
          "text": [
            "tensor([[-1.4307, -0.0283,  0.0461],\n",
            "        [ 1.1953,  1.5512,  0.3695]], requires_grad=True)\n",
            "tensor([[-16771.3418, -17864.3457, -11064.0439],\n",
            "        [ 13734.3770,  14146.6172,   8753.5947]])\n"
          ],
          "name": "stdout"
        }
      ]
    },
    {
      "cell_type": "code",
      "metadata": {
        "id": "mrpcWsZaj70u"
      },
      "source": [
        "# Adjust weights & reset gradients\r\n",
        "with torch.no_grad():\r\n",
        "    w -= w.grad * 1e-5\r\n",
        "    b -= b.grad * 1e-5\r\n",
        "    w.grad.zero_()\r\n",
        "    b.grad.zero_()"
      ],
      "execution_count": 37,
      "outputs": []
    },
    {
      "cell_type": "code",
      "metadata": {
        "colab": {
          "base_uri": "https://localhost:8080/"
        },
        "id": "a8lp7QDXkWkp",
        "outputId": "e08cd49c-f339-4f17-f689-d345114ff2fa"
      },
      "source": [
        "# Let's verify that the loss is actually lower\r\n",
        "loss = mse(preds, targets)\r\n",
        "print(loss)"
      ],
      "execution_count": 38,
      "outputs": [
        {
          "output_type": "stream",
          "text": [
            "tensor(33375.5391, grad_fn=<DivBackward0>)\n"
          ],
          "name": "stdout"
        }
      ]
    },
    {
      "cell_type": "code",
      "metadata": {
        "id": "HZ-JOQlTk02m"
      },
      "source": [
        "# Train for 100 epochs\r\n",
        "for i in range(100):\r\n",
        "    preds = model(inputs)\r\n",
        "    loss = mse(preds, targets)\r\n",
        "    loss.backward()\r\n",
        "    with torch.no_grad():\r\n",
        "        w -= w.grad * 1e-5\r\n",
        "        b -= b.grad * 1e-5\r\n",
        "        w.grad.zero_()\r\n",
        "        b.grad.zero_()\r\n",
        "        "
      ],
      "execution_count": 43,
      "outputs": []
    },
    {
      "cell_type": "code",
      "metadata": {
        "colab": {
          "base_uri": "https://localhost:8080/"
        },
        "id": "Abxlm4lpk0vW",
        "outputId": "8f4875c4-ac99-496a-ed3e-9bab05699390"
      },
      "source": [
        "preds = model(inputs)\r\n",
        "loss = mse(preds, targets)\r\n",
        "print(loss)"
      ],
      "execution_count": 44,
      "outputs": [
        {
          "output_type": "stream",
          "text": [
            "tensor(3.6162, grad_fn=<DivBackward0>)\n"
          ],
          "name": "stdout"
        }
      ]
    },
    {
      "cell_type": "markdown",
      "metadata": {
        "id": "WiwgUpz3mvYv"
      },
      "source": [
        "Train the model using gradient descent\r\n",
        "As seen above, we reduce the loss and improve our model using the gradient descent optimization algorithm. Thus, we can train the model using the following steps:\r\n",
        "\r\n",
        "Generate predictions\r\n",
        "\r\n",
        "Calculate the loss\r\n",
        "\r\n",
        "Compute gradients w.r.t the weights and biases\r\n",
        "\r\n",
        "Adjust the weights by subtracting a small quantity proportional to the gradient\r\n",
        "\r\n",
        "Reset the gradients to zero\r\n",
        "\r\n",
        "Let's implement the above step by step."
      ]
    },
    {
      "cell_type": "code",
      "metadata": {
        "colab": {
          "base_uri": "https://localhost:8080/"
        },
        "id": "o-JajvtSmvF4",
        "outputId": "2d8b806a-d449-44bb-c92e-fb57a34cbe84"
      },
      "source": [
        "preds = model(inputs)\r\n",
        "print(preds)"
      ],
      "execution_count": null,
      "outputs": [
        {
          "output_type": "stream",
          "text": [
            "tensor([[ 51.2508,  91.3178],\n",
            "        [ 58.1372, 125.5632],\n",
            "        [ 62.6574, 137.0176],\n",
            "        [ 79.9491,  85.2801],\n",
            "        [ 34.4480, 127.4283]], grad_fn=<AddBackward0>)\n"
          ],
          "name": "stdout"
        }
      ]
    },
    {
      "cell_type": "code",
      "metadata": {
        "id": "U1oWs3KfkXZ-"
      },
      "source": [
        "import torch.nn as nn\r\n"
      ],
      "execution_count": 45,
      "outputs": []
    },
    {
      "cell_type": "code",
      "metadata": {
        "id": "cJZEPOqmlstx"
      },
      "source": [
        "# Input (temp, rainfall, humidity)\r\n",
        "inputs = np.array([[73, 67, 43], \r\n",
        "                   [91, 88, 64], \r\n",
        "                   [87, 134, 58], \r\n",
        "                   [102, 43, 37], \r\n",
        "                   [69, 96, 70], \r\n",
        "                   [74, 66, 43], \r\n",
        "                   [91, 87, 65], \r\n",
        "                   [88, 134, 59], \r\n",
        "                   [101, 44, 37], \r\n",
        "                   [68, 96, 71], \r\n",
        "                   [73, 66, 44], \r\n",
        "                   [92, 87, 64], \r\n",
        "                   [87, 135, 57], \r\n",
        "                   [103, 43, 36], \r\n",
        "                   [68, 97, 70]], \r\n",
        "                  dtype='float32')\r\n",
        "\r\n",
        "# Targets (apples, oranges)\r\n",
        "targets = np.array([[56, 70], \r\n",
        "                    [81, 101], \r\n",
        "                    [119, 133], \r\n",
        "                    [22, 37], \r\n",
        "                    [103, 119],\r\n",
        "                    [57, 69], \r\n",
        "                    [80, 102], \r\n",
        "                    [118, 132], \r\n",
        "                    [21, 38], \r\n",
        "                    [104, 118], \r\n",
        "                    [57, 69], \r\n",
        "                    [82, 100], \r\n",
        "                    [118, 134], \r\n",
        "                    [20, 38], \r\n",
        "                    [102, 120]], \r\n",
        "                   dtype='float32')\r\n",
        "\r\n",
        "inputs = torch.from_numpy(inputs)\r\n",
        "targets = torch.from_numpy(targets)"
      ],
      "execution_count": 46,
      "outputs": []
    },
    {
      "cell_type": "code",
      "metadata": {
        "colab": {
          "base_uri": "https://localhost:8080/"
        },
        "id": "agcHPXRIl4pE",
        "outputId": "2a4d5f27-4efb-46ff-93f8-84a3d3ed45e9"
      },
      "source": [
        "inputs"
      ],
      "execution_count": 47,
      "outputs": [
        {
          "output_type": "execute_result",
          "data": {
            "text/plain": [
              "tensor([[ 73.,  67.,  43.],\n",
              "        [ 91.,  88.,  64.],\n",
              "        [ 87., 134.,  58.],\n",
              "        [102.,  43.,  37.],\n",
              "        [ 69.,  96.,  70.],\n",
              "        [ 74.,  66.,  43.],\n",
              "        [ 91.,  87.,  65.],\n",
              "        [ 88., 134.,  59.],\n",
              "        [101.,  44.,  37.],\n",
              "        [ 68.,  96.,  71.],\n",
              "        [ 73.,  66.,  44.],\n",
              "        [ 92.,  87.,  64.],\n",
              "        [ 87., 135.,  57.],\n",
              "        [103.,  43.,  36.],\n",
              "        [ 68.,  97.,  70.]])"
            ]
          },
          "metadata": {
            "tags": []
          },
          "execution_count": 47
        }
      ]
    },
    {
      "cell_type": "code",
      "metadata": {
        "id": "0L954VU8l5E1"
      },
      "source": [
        "from torch.utils.data import TensorDataset\r\n"
      ],
      "execution_count": 48,
      "outputs": []
    },
    {
      "cell_type": "code",
      "metadata": {
        "colab": {
          "base_uri": "https://localhost:8080/"
        },
        "id": "2cVaJu7pm2WA",
        "outputId": "c9945453-5958-4948-98d7-5f7763dc9b7d"
      },
      "source": [
        "# Define dataset\r\n",
        "train_ds = TensorDataset(inputs, targets)\r\n",
        "train_ds[0:3]"
      ],
      "execution_count": 49,
      "outputs": [
        {
          "output_type": "execute_result",
          "data": {
            "text/plain": [
              "(tensor([[ 73.,  67.,  43.],\n",
              "         [ 91.,  88.,  64.],\n",
              "         [ 87., 134.,  58.]]), tensor([[ 56.,  70.],\n",
              "         [ 81., 101.],\n",
              "         [119., 133.]]))"
            ]
          },
          "metadata": {
            "tags": []
          },
          "execution_count": 49
        }
      ]
    },
    {
      "cell_type": "code",
      "metadata": {
        "id": "wNbqXvL8nZjb"
      },
      "source": [
        "from torch.utils.data import DataLoader\r\n"
      ],
      "execution_count": 50,
      "outputs": []
    },
    {
      "cell_type": "code",
      "metadata": {
        "id": "_9Z7VvKIneD8"
      },
      "source": [
        "# Define data loader\r\n",
        "batch_size = 5\r\n",
        "train_dl = DataLoader(train_ds, batch_size, shuffle=True)"
      ],
      "execution_count": 51,
      "outputs": []
    },
    {
      "cell_type": "code",
      "metadata": {
        "colab": {
          "base_uri": "https://localhost:8080/"
        },
        "id": "g68O6luInhZV",
        "outputId": "ebd1c125-f19f-43ac-b67f-fda06ec8ee43"
      },
      "source": [
        "for xb, yb in train_dl:\r\n",
        "    print(xb, yb) \r\n",
        "    break"
      ],
      "execution_count": 71,
      "outputs": [
        {
          "output_type": "stream",
          "text": [
            "tensor([[ 69.,  96.,  70.],\n",
            "        [ 91.,  87.,  65.],\n",
            "        [101.,  44.,  37.],\n",
            "        [ 73.,  67.,  43.],\n",
            "        [ 74.,  66.,  43.]]) tensor([[103., 119.],\n",
            "        [ 80., 102.],\n",
            "        [ 21.,  38.],\n",
            "        [ 56.,  70.],\n",
            "        [ 57.,  69.]])\n"
          ],
          "name": "stdout"
        }
      ]
    },
    {
      "cell_type": "code",
      "metadata": {
        "colab": {
          "base_uri": "https://localhost:8080/"
        },
        "id": "GQ05pc1EohoJ",
        "outputId": "83e6abd8-d8b6-4dc9-ddd9-0299115b2413"
      },
      "source": [
        "\r\n",
        "# Define model\r\n",
        "model = nn.Linear(3, 2)\r\n",
        "print(model.weight)\r\n",
        "print(model.bias)"
      ],
      "execution_count": 57,
      "outputs": [
        {
          "output_type": "stream",
          "text": [
            "Parameter containing:\n",
            "tensor([[-0.4949, -0.0528, -0.2190],\n",
            "        [ 0.1162,  0.1921, -0.5770]], requires_grad=True)\n",
            "Parameter containing:\n",
            "tensor([-0.3050, -0.5555], requires_grad=True)\n"
          ],
          "name": "stdout"
        }
      ]
    },
    {
      "cell_type": "code",
      "metadata": {
        "colab": {
          "base_uri": "https://localhost:8080/"
        },
        "id": "BtJ05R09ozis",
        "outputId": "8094bd20-ba4a-4bd5-9ae6-36a87f796238"
      },
      "source": [
        "# Parameters\r\n",
        "list(model.parameters())"
      ],
      "execution_count": 58,
      "outputs": [
        {
          "output_type": "execute_result",
          "data": {
            "text/plain": [
              "[Parameter containing:\n",
              " tensor([[-0.4949, -0.0528, -0.2190],\n",
              "         [ 0.1162,  0.1921, -0.5770]], requires_grad=True),\n",
              " Parameter containing:\n",
              " tensor([-0.3050, -0.5555], requires_grad=True)]"
            ]
          },
          "metadata": {
            "tags": []
          },
          "execution_count": 58
        }
      ]
    },
    {
      "cell_type": "code",
      "metadata": {
        "colab": {
          "base_uri": "https://localhost:8080/"
        },
        "id": "xqn0BjHuo04_",
        "outputId": "0565590d-9911-441f-88cc-2521b22f472b"
      },
      "source": [
        "\r\n",
        "# Generate predictions\r\n",
        "preds = model(inputs)\r\n",
        "preds"
      ],
      "execution_count": 59,
      "outputs": [
        {
          "output_type": "execute_result",
          "data": {
            "text/plain": [
              "tensor([[-49.3814,  -4.0190],\n",
              "        [-63.9959, -10.0123],\n",
              "        [-63.1290,   1.8201],\n",
              "        [-61.1521,  -1.7969],\n",
              "        [-54.8452, -14.4941],\n",
              "        [-49.8235,  -4.0949],\n",
              "        [-64.1622, -10.7815],\n",
              "        [-63.8429,   1.3592],\n",
              "        [-60.7099,  -1.7210],\n",
              "        [-54.5694, -15.1874],\n",
              "        [-49.5477,  -4.7881],\n",
              "        [-64.4380, -10.0882],\n",
              "        [-62.9627,   2.5892],\n",
              "        [-61.4279,  -1.1037],\n",
              "        [-54.4031, -14.4182]], grad_fn=<AddmmBackward>)"
            ]
          },
          "metadata": {
            "tags": []
          },
          "execution_count": 59
        }
      ]
    },
    {
      "cell_type": "code",
      "metadata": {
        "id": "8AcewoWapSeN"
      },
      "source": [
        "# Import nn.functional\r\n",
        "import torch.nn.functional as F"
      ],
      "execution_count": 60,
      "outputs": []
    },
    {
      "cell_type": "code",
      "metadata": {
        "id": "I1ZzIYucqG3C"
      },
      "source": [
        "# Define loss function\r\n",
        "loss_fn = F.mse_loss"
      ],
      "execution_count": 61,
      "outputs": []
    },
    {
      "cell_type": "code",
      "metadata": {
        "colab": {
          "base_uri": "https://localhost:8080/"
        },
        "id": "LmKCtjUgqKkT",
        "outputId": "a124d6d4-0dc8-46dc-e357-b647b1b18646"
      },
      "source": [
        "loss = loss_fn(model(inputs), targets)\r\n",
        "print(loss)"
      ],
      "execution_count": 62,
      "outputs": [
        {
          "output_type": "stream",
          "text": [
            "tensor(15135.3477, grad_fn=<MseLossBackward>)\n"
          ],
          "name": "stdout"
        }
      ]
    },
    {
      "cell_type": "code",
      "metadata": {
        "id": "0gxPiQSWqR4T"
      },
      "source": [
        "# Define optimizer\r\n",
        "opt = torch.optim.SGD(model.parameters(), lr=1e-5)"
      ],
      "execution_count": 63,
      "outputs": []
    },
    {
      "cell_type": "markdown",
      "metadata": {
        "id": "DT-HKWLaq2Z-"
      },
      "source": [
        "Train the model\r\n",
        "We are now ready to train the model. We'll follow the same process to implement gradient descent:\r\n",
        "\r\n",
        "Generate predictions\r\n",
        "\r\n",
        "Calculate the loss\r\n",
        "\r\n",
        "Compute gradients w.r.t the weights and biases\r\n",
        "\r\n",
        "Adjust the weights by subtracting a small quantity proportional to the gradient\r\n",
        "\r\n",
        "Reset the gradients to zero\r\n",
        "\r\n",
        "The only change is that we'll work batches of data instead of processing the entire training data in every iteration. Let's define a utility function fit that trains the model for a given number of epochs."
      ]
    },
    {
      "cell_type": "code",
      "metadata": {
        "id": "xM4rO8wcrpzW"
      },
      "source": [
        "# Train with batches of data\r\n",
        "for xb,yb in train_dl:\r\n",
        "    \r\n",
        "    # 1. Generate predictions\r\n",
        "    pred = model(xb)\r\n",
        "    \r\n",
        "    # 2. Calculate loss\r\n",
        "    loss = loss_fn(pred, yb)\r\n",
        "    \r\n",
        "    # 3. Compute gradients\r\n",
        "    loss.backward()\r\n",
        "    \r\n",
        "    # 4. Update parameters using gradients\r\n",
        "    opt.step()\r\n",
        "    \r\n",
        "    # 5. Reset the gradients to zero\r\n",
        "    opt.zero_grad()\r\n",
        "        \r\n"
      ],
      "execution_count": 65,
      "outputs": []
    },
    {
      "cell_type": "code",
      "metadata": {
        "colab": {
          "base_uri": "https://localhost:8080/"
        },
        "id": "IefOLDUAr1pK",
        "outputId": "c09f6948-68cd-400c-a6cd-4edbd111441f"
      },
      "source": [
        "loss.item()"
      ],
      "execution_count": 66,
      "outputs": [
        {
          "output_type": "execute_result",
          "data": {
            "text/plain": [
              "1989.483642578125"
            ]
          },
          "metadata": {
            "tags": []
          },
          "execution_count": 66
        }
      ]
    },
    {
      "cell_type": "code",
      "metadata": {
        "id": "ExLswylQsdfs"
      },
      "source": [
        "# Utility function to train the model\r\n",
        "def fit(num_epochs, model, loss_fn, opt, train_dl):\r\n",
        "    \r\n",
        "    # Repeat for given number of epochs\r\n",
        "    for epoch in range(num_epochs):\r\n",
        "        \r\n",
        "        # Train with batches of data\r\n",
        "        for xb,yb in train_dl:\r\n",
        "            \r\n",
        "            # 1. Generate predictions\r\n",
        "            pred = model(xb)\r\n",
        "            \r\n",
        "            # 2. Calculate loss\r\n",
        "            loss = loss_fn(pred, yb)\r\n",
        "            \r\n",
        "            # 3. Compute gradients\r\n",
        "            loss.backward()\r\n",
        "            \r\n",
        "            # 4. Update parameters using gradients\r\n",
        "            opt.step()\r\n",
        "            \r\n",
        "            # 5. Reset the gradients to zero\r\n",
        "            opt.zero_grad()\r\n",
        "        \r\n",
        "        # Print the progress\r\n",
        "        if (epoch+1) % 10 == 0:\r\n",
        "            print('Epoch [{}/{}], Loss: {:.4f}'.format(epoch+1, num_epochs, loss.item())) #since loss is a tensor, in order to get it as a number, we put loss.item()"
      ],
      "execution_count": 73,
      "outputs": []
    },
    {
      "cell_type": "code",
      "metadata": {
        "colab": {
          "base_uri": "https://localhost:8080/"
        },
        "id": "GEKN4iNBtBRZ",
        "outputId": "d1fd75a6-41cd-46e6-e7b2-13960bd78218"
      },
      "source": [
        "fit(100, model, loss_fn, opt, train_dl)\r\n"
      ],
      "execution_count": 74,
      "outputs": [
        {
          "output_type": "stream",
          "text": [
            "Epoch [10/100], Loss: 382.3283\n",
            "Epoch [20/100], Loss: 295.3376\n",
            "Epoch [30/100], Loss: 203.4067\n",
            "Epoch [40/100], Loss: 193.3706\n",
            "Epoch [50/100], Loss: 105.6775\n",
            "Epoch [60/100], Loss: 88.7913\n",
            "Epoch [70/100], Loss: 43.0349\n",
            "Epoch [80/100], Loss: 55.5265\n",
            "Epoch [90/100], Loss: 54.1253\n",
            "Epoch [100/100], Loss: 45.2944\n"
          ],
          "name": "stdout"
        }
      ]
    }
  ]
}